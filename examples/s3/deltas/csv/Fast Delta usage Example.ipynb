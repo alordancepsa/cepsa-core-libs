{
 "cells": [
  {
   "cell_type": "code",
   "execution_count": 1,
   "id": "6dc3478d",
   "metadata": {},
   "outputs": [
    {
     "name": "stdout",
     "output_type": "stream",
     "text": [
      "/home/alordan/Escritorio/git/personal/cepsa-core-libs\n"
     ]
    }
   ],
   "source": [
    "import os\n",
    "import sys\n",
    "module_path = os.path.abspath(os.path.join('../../../../'))\n",
    "\n",
    "\n",
    "if module_path not in sys.path:\n",
    "    print(module_path)\n",
    "    sys.path.append(module_path)"
   ]
  },
  {
   "cell_type": "code",
   "execution_count": 4,
   "id": "5292dd08",
   "metadata": {},
   "outputs": [],
   "source": [
    "from core_libs.s3.deltas.csv import fast_delta"
   ]
  },
  {
   "cell_type": "code",
   "execution_count": null,
   "id": "37158e00",
   "metadata": {},
   "outputs": [],
   "source": []
  },
  {
   "cell_type": "code",
   "execution_count": null,
   "id": "aed829ba",
   "metadata": {},
   "outputs": [],
   "source": []
  }
 ],
 "metadata": {
  "kernelspec": {
   "display_name": "Python 3 (ipykernel)",
   "language": "python",
   "name": "python3"
  },
  "language_info": {
   "codemirror_mode": {
    "name": "ipython",
    "version": 3
   },
   "file_extension": ".py",
   "mimetype": "text/x-python",
   "name": "python",
   "nbconvert_exporter": "python",
   "pygments_lexer": "ipython3",
   "version": "3.8.10"
  }
 },
 "nbformat": 4,
 "nbformat_minor": 5
}
